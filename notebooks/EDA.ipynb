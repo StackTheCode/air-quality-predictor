{
 "cells": [
  {
   "cell_type": "code",
   "execution_count": null,
   "id": "668942d4",
   "metadata": {},
   "outputs": [],
   "source": [
    "import pandas as pd\n",
    "import matplotlib.pyplot as plt\n",
    "import seaborn as sb\n",
    "from config.database import get_engine\n",
    "\n",
    "engine = get_engine()\n",
    "\n",
    "air_df=pd.read_sql(\"SELECT * FROM air_quality_table ORDER BY timestamp\",engine)\n",
    "weather_df = pd.read_sql(\"SELECT * FROM weather_data_table ORDER BY timestamp \",engine)\n",
    "\n",
    "\n",
    "print(f\"Air quality records: {len(air_df)}\")\n",
    "print(f\"Weather records: {len(weather_df)}\")\n",
    "\n",
    "\n",
    "# Basic statistics\n",
    "air_df.describe()"
   ]
  }
 ],
 "metadata": {
  "language_info": {
   "name": "python"
  }
 },
 "nbformat": 4,
 "nbformat_minor": 5
}
